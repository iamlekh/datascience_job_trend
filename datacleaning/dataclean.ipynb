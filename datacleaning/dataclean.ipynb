{
 "cells": [
  {
   "cell_type": "code",
   "execution_count": 257,
   "metadata": {},
   "outputs": [],
   "source": [
    "import pandas as pd\n"
   ]
  },
  {
   "cell_type": "code",
   "execution_count": 258,
   "metadata": {},
   "outputs": [],
   "source": [
    "dfai = pd.read_csv(\"/media/kiit/9B8F-064E/project/ds_salary/data collection/glassdoor_artificial-intelligence-engineer300.csv\")\n",
    "dfml = pd.read_csv(\"/media/kiit/9B8F-064E/project/ds_salary/data collection/glassdoor_machine-learning-engineer1000.csv\")\n",
    "dfds = pd.read_csv(\"/media/kiit/9B8F-064E/project/ds_salary/data collection/glassdoor_data_scientist1000.csv\")"
   ]
  },
  {
   "cell_type": "code",
   "execution_count": 259,
   "metadata": {},
   "outputs": [
    {
     "data": {
      "text/plain": [
       "(2300, 14)"
      ]
     },
     "execution_count": 259,
     "metadata": {},
     "output_type": "execute_result"
    }
   ],
   "source": [
    "#concate\n",
    "frames = [dfds, dfml, dfai]\n",
    "df = pd.concat(frames)\n",
    "df.shape"
   ]
  },
  {
   "cell_type": "code",
   "execution_count": 260,
   "metadata": {},
   "outputs": [
    {
     "data": {
      "text/plain": [
       "(1602, 14)"
      ]
     },
     "execution_count": 260,
     "metadata": {},
     "output_type": "execute_result"
    }
   ],
   "source": [
    "df = df.drop_duplicates(subset=['Job Description', 'Job Title'], keep='first')\n",
    "df.shape"
   ]
  },
  {
   "cell_type": "code",
   "execution_count": 261,
   "metadata": {},
   "outputs": [],
   "source": [
    "l = ['.net','full stack','java' ,'qa','quality','app','ios','nodejs','embedded','infrastructure' ,'design','mobile',\n",
    " 'customer', 'care', 'backend', 'hardware', 'design', 'automation', 'bios', 'front-end', 'performance','test', 'data operations', 'oracle', 'productivity', 'cyber', 'security', 'qa', 'android', 'website', 'staff', 'api', 'test', 'full stack', 'app', 'frontend', 'localisation']"
   ]
  },
  {
   "cell_type": "code",
   "execution_count": 262,
   "metadata": {},
   "outputs": [],
   "source": [
    "#remove other job title\n",
    "df['Job Title'] = df['Job Title'].str.lower()\n",
    "for i in range(len(l)):\n",
    "    df =df[~df['Job Title'].str.contains(l[i])]"
   ]
  },
  {
   "cell_type": "code",
   "execution_count": 263,
   "metadata": {},
   "outputs": [],
   "source": [
    "#drop columns\n",
    "df.drop(['Competitors','Revenue','Salary Estimate'], inplace = True, axis  = 1)"
   ]
  },
  {
   "cell_type": "code",
   "execution_count": 264,
   "metadata": {},
   "outputs": [],
   "source": [
    "#parse comp[any name]\n",
    "df['Company Name'] = df['Company Name'].apply(lambda x: x.split('\\n')[0])"
   ]
  },
  {
   "cell_type": "code",
   "execution_count": 265,
   "metadata": {},
   "outputs": [],
   "source": [
    "#headquater\n",
    "def country(x):\n",
    "    a = x.split(',')\n",
    "    try:\n",
    "        if a[1] is not None:\n",
    "            return a[1]\n",
    "        elif a[0] == '-1':\n",
    "            return \"unknown\"\n",
    "        else:\n",
    "            return a[0]\n",
    "    except:\n",
    "        return \"unknown\" if a[0]== '-1' else a[0]\n",
    "df['Headquarters'] = df['Headquarters'].apply(country)\n"
   ]
  },
  {
   "cell_type": "code",
   "execution_count": 266,
   "metadata": {},
   "outputs": [],
   "source": [
    "#ratings\n",
    "df['Rating'] = df['Rating'].apply(lambda x: 0 if x == -1.0 else x)"
   ]
  },
  {
   "cell_type": "code",
   "execution_count": 267,
   "metadata": {},
   "outputs": [],
   "source": [
    "#sector\n",
    "df['Sector'] = df['Sector'].apply(lambda x: 'unknown' if x == '-1' else x)"
   ]
  },
  {
   "cell_type": "code",
   "execution_count": 268,
   "metadata": {},
   "outputs": [],
   "source": [
    "#size\n",
    "df['Size'] = df['Size'].apply(lambda x: 'unknown' if x == '-1' else x)"
   ]
  },
  {
   "cell_type": "code",
   "execution_count": 269,
   "metadata": {},
   "outputs": [],
   "source": [
    "#Type of ownership\n",
    "df['Type of ownership'] = df['Type of ownership'].apply(lambda x: 'unknown' if x == '-1' else x)"
   ]
  },
  {
   "cell_type": "code",
   "execution_count": null,
   "metadata": {},
   "outputs": [],
   "source": []
  },
  {
   "cell_type": "code",
   "execution_count": 270,
   "metadata": {},
   "outputs": [],
   "source": [
    "df['Job Description'].fillna(\"unknown\", inplace = True)"
   ]
  },
  {
   "cell_type": "code",
   "execution_count": 271,
   "metadata": {},
   "outputs": [],
   "source": [
    "#python in job describtion\n",
    "df['python']= df['Job Description'].astype(str).apply(lambda x: 1 if 'python' in x.lower() else 0)"
   ]
  },
  {
   "cell_type": "code",
   "execution_count": 272,
   "metadata": {},
   "outputs": [],
   "source": [
    "#r in job describtion\n",
    "df['r_studio']= df['Job Description'].astype(str).apply(lambda x: 1 if 'r studio' or 'r-studio' in x.lower() else 0)"
   ]
  },
  {
   "cell_type": "code",
   "execution_count": 273,
   "metadata": {},
   "outputs": [],
   "source": [
    "#SQL in job describtion\n",
    "df['SQL']= df['Job Description'].astype(str).apply(lambda x: 1 if 'sql' in x.lower() else 0)"
   ]
  },
  {
   "cell_type": "code",
   "execution_count": 274,
   "metadata": {},
   "outputs": [],
   "source": [
    "#SAS in job describtion\n",
    "df['SAS']= df['Job Description'].astype(str).apply(lambda x: 1 if 'sas' in x.lower() else 0)"
   ]
  },
  {
   "cell_type": "code",
   "execution_count": 275,
   "metadata": {},
   "outputs": [],
   "source": [
    "#spark in job describtion\n",
    "df['spark']= df['Job Description'].astype(str).apply(lambda x: 1 if 'spark' in x.lower() else 0)"
   ]
  },
  {
   "cell_type": "code",
   "execution_count": 276,
   "metadata": {},
   "outputs": [],
   "source": [
    "#aws in job describtion\n",
    "df['aws']= df['Job Description'].astype(str).apply(lambda x: 1 if 'aws'or 'amazon'  in x.lower() else 0)"
   ]
  },
  {
   "cell_type": "code",
   "execution_count": 277,
   "metadata": {},
   "outputs": [],
   "source": [
    "#google clous in job describtion\n",
    "df['Google_cloud']= df['Job Description'].astype(str).apply(lambda x: 1 if 'google cloud' in x.lower() else 0)"
   ]
  },
  {
   "cell_type": "code",
   "execution_count": 278,
   "metadata": {},
   "outputs": [],
   "source": [
    "#azure in job describtion\n",
    "df['azure']= df['Job Description'].astype(str).apply(lambda x: 1 if 'azure' in x.lower() else 0)"
   ]
  },
  {
   "cell_type": "code",
   "execution_count": 279,
   "metadata": {},
   "outputs": [],
   "source": [
    "#bigdata in job describtion\n",
    "df['big data']= df['Job Description'].astype(str).apply(lambda x: 1 if ('hadoop' or 'hive' or \"pig\") in x.lower() else 0)"
   ]
  },
  {
   "cell_type": "code",
   "execution_count": 280,
   "metadata": {},
   "outputs": [],
   "source": [
    "#qlik in job describtion\n",
    "df['qlik']= df['Job Description'].astype(str).apply(lambda x: 1 if 'qlik' in x.lower() else 0)"
   ]
  },
  {
   "cell_type": "code",
   "execution_count": 323,
   "metadata": {},
   "outputs": [],
   "source": [
    "#sklearn in job describtion\n",
    "df['sklearn']= df['Job Description'].astype(str).apply(lambda x: 1 if ('scikit learn'or'scikit-learn' or 'sklearn') in x.lower() else 0)"
   ]
  },
  {
   "cell_type": "code",
   "execution_count": 301,
   "metadata": {},
   "outputs": [],
   "source": [
    "#p'machine learning' in job describtion\n",
    "df['machine learning']= df['Job Description'].astype(str).apply(lambda x: 1 if 'machine learning' in x.lower() else 0)"
   ]
  },
  {
   "cell_type": "code",
   "execution_count": 328,
   "metadata": {},
   "outputs": [],
   "source": [
    "#'deep learning' in job describtion\n",
    "df['deep learning']= df['Job Description'].astype(str).apply(lambda x: 1 if 'deep learning' in x.lower() else 0)"
   ]
  },
  {
   "cell_type": "code",
   "execution_count": 340,
   "metadata": {},
   "outputs": [],
   "source": [
    "#(\"nosql\" or 'mongodb') in job describtion\n",
    "df['nosql']= df['Job Description'].astype(str).apply(lambda x: 1 if (\"nosql\" or 'mongodb') in x.lower() else 0)"
   ]
  },
  {
   "cell_type": "code",
   "execution_count": 339,
   "metadata": {},
   "outputs": [],
   "source": [
    "#python in job describtion\n",
    "df['java?c++/julia']= df['Job Description'].astype(str).apply(lambda x: 1 if ('java'or'c++' or 'julia') in x.lower() else 0)"
   ]
  },
  {
   "cell_type": "code",
   "execution_count": 352,
   "metadata": {},
   "outputs": [],
   "source": [
    "df['Size']=df['Size'].map({'10000+ employees':'10000+',\n",
    "               '1 to 50 employees':\"1-50\", \n",
    "               \"51 to 200 employees\":\"51-200\",\n",
    "               '1001 to 5000 employees':'1001-5000',\n",
    "               '201 to 500 employees':'201-500',\n",
    "               '501 to 1000 employees':'501-1000',\n",
    "               '5001 to 10000 employees':\"5001-10000\"})"
   ]
  },
  {
   "cell_type": "code",
   "execution_count": 354,
   "metadata": {},
   "outputs": [
    {
     "data": {
      "text/plain": [
       "(1338, 26)"
      ]
     },
     "execution_count": 354,
     "metadata": {},
     "output_type": "execute_result"
    }
   ],
   "source": [
    "df.shape"
   ]
  },
  {
   "cell_type": "code",
   "execution_count": 355,
   "metadata": {},
   "outputs": [],
   "source": [
    "df.to_csv('glassdoor_clean_data.csv')"
   ]
  },
  {
   "cell_type": "code",
   "execution_count": null,
   "metadata": {},
   "outputs": [],
   "source": []
  }
 ],
 "metadata": {
  "kernelspec": {
   "display_name": "tf_training",
   "language": "python",
   "name": "tf_training"
  },
  "language_info": {
   "codemirror_mode": {
    "name": "ipython",
    "version": 3
   },
   "file_extension": ".py",
   "mimetype": "text/x-python",
   "name": "python",
   "nbconvert_exporter": "python",
   "pygments_lexer": "ipython3",
   "version": "3.7.3"
  }
 },
 "nbformat": 4,
 "nbformat_minor": 2
}
